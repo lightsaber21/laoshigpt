{
 "cells": [
  {
   "cell_type": "code",
   "execution_count": 1,
   "metadata": {
    "colab": {
     "base_uri": "https://localhost:8080/"
    },
    "id": "ShsfyGq0u1KI",
    "outputId": "97802899-a499-49a9-cf0c-dca0c160b201"
   },
   "outputs": [
    {
     "name": "stdout",
     "output_type": "stream",
     "text": [
      "Requirement already satisfied: langchain in /home/michael/.local/pipx/shared/lib/python3.11/site-packages (0.3.27)\n",
      "Requirement already satisfied: langchain-core<1.0.0,>=0.3.72 in /home/michael/.local/pipx/shared/lib/python3.11/site-packages (from langchain) (0.3.72)\n",
      "Requirement already satisfied: langchain-text-splitters<1.0.0,>=0.3.9 in /home/michael/.local/pipx/shared/lib/python3.11/site-packages (from langchain) (0.3.9)\n",
      "Requirement already satisfied: langsmith>=0.1.17 in /home/michael/.local/pipx/shared/lib/python3.11/site-packages (from langchain) (0.4.12)\n",
      "Requirement already satisfied: pydantic<3.0.0,>=2.7.4 in /home/michael/.local/pipx/shared/lib/python3.11/site-packages (from langchain) (2.11.7)\n",
      "Requirement already satisfied: SQLAlchemy<3,>=1.4 in /home/michael/.local/pipx/shared/lib/python3.11/site-packages (from langchain) (2.0.42)\n",
      "Requirement already satisfied: requests<3,>=2 in /home/michael/.local/pipx/shared/lib/python3.11/site-packages (from langchain) (2.32.4)\n",
      "Requirement already satisfied: PyYAML>=5.3 in /home/michael/.local/pipx/shared/lib/python3.11/site-packages (from langchain) (6.0.2)\n",
      "Requirement already satisfied: tenacity!=8.4.0,<10.0.0,>=8.1.0 in /home/michael/.local/pipx/shared/lib/python3.11/site-packages (from langchain-core<1.0.0,>=0.3.72->langchain) (9.1.2)\n",
      "Requirement already satisfied: jsonpatch<2.0,>=1.33 in /home/michael/.local/pipx/shared/lib/python3.11/site-packages (from langchain-core<1.0.0,>=0.3.72->langchain) (1.33)\n",
      "Requirement already satisfied: typing-extensions>=4.7 in /home/michael/.local/pipx/shared/lib/python3.11/site-packages (from langchain-core<1.0.0,>=0.3.72->langchain) (4.14.1)\n",
      "Requirement already satisfied: packaging>=23.2 in /home/michael/.local/pipx/shared/lib/python3.11/site-packages (from langchain-core<1.0.0,>=0.3.72->langchain) (25.0)\n",
      "Requirement already satisfied: jsonpointer>=1.9 in /home/michael/.local/pipx/shared/lib/python3.11/site-packages (from jsonpatch<2.0,>=1.33->langchain-core<1.0.0,>=0.3.72->langchain) (3.0.0)\n",
      "Requirement already satisfied: annotated-types>=0.6.0 in /home/michael/.local/pipx/shared/lib/python3.11/site-packages (from pydantic<3.0.0,>=2.7.4->langchain) (0.7.0)\n",
      "Requirement already satisfied: pydantic-core==2.33.2 in /home/michael/.local/pipx/shared/lib/python3.11/site-packages (from pydantic<3.0.0,>=2.7.4->langchain) (2.33.2)\n",
      "Requirement already satisfied: typing-inspection>=0.4.0 in /home/michael/.local/pipx/shared/lib/python3.11/site-packages (from pydantic<3.0.0,>=2.7.4->langchain) (0.4.1)\n",
      "Requirement already satisfied: charset_normalizer<4,>=2 in /home/michael/.local/pipx/shared/lib/python3.11/site-packages (from requests<3,>=2->langchain) (3.4.2)\n",
      "Requirement already satisfied: idna<4,>=2.5 in /home/michael/.local/pipx/shared/lib/python3.11/site-packages (from requests<3,>=2->langchain) (3.10)\n",
      "Requirement already satisfied: urllib3<3,>=1.21.1 in /home/michael/.local/pipx/shared/lib/python3.11/site-packages (from requests<3,>=2->langchain) (2.5.0)\n",
      "Requirement already satisfied: certifi>=2017.4.17 in /home/michael/.local/pipx/shared/lib/python3.11/site-packages (from requests<3,>=2->langchain) (2025.8.3)\n",
      "Requirement already satisfied: greenlet>=1 in /home/michael/.local/pipx/shared/lib/python3.11/site-packages (from SQLAlchemy<3,>=1.4->langchain) (3.2.3)\n",
      "Requirement already satisfied: httpx<1,>=0.23.0 in /home/michael/.local/pipx/shared/lib/python3.11/site-packages (from langsmith>=0.1.17->langchain) (0.28.1)\n",
      "Requirement already satisfied: orjson>=3.9.14 in /home/michael/.local/pipx/shared/lib/python3.11/site-packages (from langsmith>=0.1.17->langchain) (3.11.1)\n",
      "Requirement already satisfied: requests-toolbelt>=1.0.0 in /home/michael/.local/pipx/shared/lib/python3.11/site-packages (from langsmith>=0.1.17->langchain) (1.0.0)\n",
      "Requirement already satisfied: zstandard>=0.23.0 in /home/michael/.local/pipx/shared/lib/python3.11/site-packages (from langsmith>=0.1.17->langchain) (0.23.0)\n",
      "Requirement already satisfied: anyio in /home/michael/.local/pipx/shared/lib/python3.11/site-packages (from httpx<1,>=0.23.0->langsmith>=0.1.17->langchain) (4.10.0)\n",
      "Requirement already satisfied: httpcore==1.* in /home/michael/.local/pipx/shared/lib/python3.11/site-packages (from httpx<1,>=0.23.0->langsmith>=0.1.17->langchain) (1.0.9)\n",
      "Requirement already satisfied: h11>=0.16 in /home/michael/.local/pipx/shared/lib/python3.11/site-packages (from httpcore==1.*->httpx<1,>=0.23.0->langsmith>=0.1.17->langchain) (0.16.0)\n",
      "Requirement already satisfied: sniffio>=1.1 in /home/michael/.local/pipx/shared/lib/python3.11/site-packages (from anyio->httpx<1,>=0.23.0->langsmith>=0.1.17->langchain) (1.3.1)\n",
      "Requirement already satisfied: langgraph in /home/michael/.local/pipx/shared/lib/python3.11/site-packages (0.6.3)\n",
      "Requirement already satisfied: langchain-core>=0.1 in /home/michael/.local/pipx/shared/lib/python3.11/site-packages (from langgraph) (0.3.72)\n",
      "Requirement already satisfied: langgraph-checkpoint<3.0.0,>=2.1.0 in /home/michael/.local/pipx/shared/lib/python3.11/site-packages (from langgraph) (2.1.1)\n",
      "Requirement already satisfied: langgraph-prebuilt<0.7.0,>=0.6.0 in /home/michael/.local/pipx/shared/lib/python3.11/site-packages (from langgraph) (0.6.3)\n",
      "Requirement already satisfied: langgraph-sdk<0.3.0,>=0.2.0 in /home/michael/.local/pipx/shared/lib/python3.11/site-packages (from langgraph) (0.2.0)\n",
      "Requirement already satisfied: pydantic>=2.7.4 in /home/michael/.local/pipx/shared/lib/python3.11/site-packages (from langgraph) (2.11.7)\n",
      "Requirement already satisfied: xxhash>=3.5.0 in /home/michael/.local/pipx/shared/lib/python3.11/site-packages (from langgraph) (3.5.0)\n",
      "Requirement already satisfied: ormsgpack>=1.10.0 in /home/michael/.local/pipx/shared/lib/python3.11/site-packages (from langgraph-checkpoint<3.0.0,>=2.1.0->langgraph) (1.10.0)\n",
      "Requirement already satisfied: httpx>=0.25.2 in /home/michael/.local/pipx/shared/lib/python3.11/site-packages (from langgraph-sdk<0.3.0,>=0.2.0->langgraph) (0.28.1)\n",
      "Requirement already satisfied: orjson>=3.10.1 in /home/michael/.local/pipx/shared/lib/python3.11/site-packages (from langgraph-sdk<0.3.0,>=0.2.0->langgraph) (3.11.1)\n",
      "Requirement already satisfied: anyio in /home/michael/.local/pipx/shared/lib/python3.11/site-packages (from httpx>=0.25.2->langgraph-sdk<0.3.0,>=0.2.0->langgraph) (4.10.0)\n",
      "Requirement already satisfied: certifi in /home/michael/.local/pipx/shared/lib/python3.11/site-packages (from httpx>=0.25.2->langgraph-sdk<0.3.0,>=0.2.0->langgraph) (2025.8.3)\n",
      "Requirement already satisfied: httpcore==1.* in /home/michael/.local/pipx/shared/lib/python3.11/site-packages (from httpx>=0.25.2->langgraph-sdk<0.3.0,>=0.2.0->langgraph) (1.0.9)\n",
      "Requirement already satisfied: idna in /home/michael/.local/pipx/shared/lib/python3.11/site-packages (from httpx>=0.25.2->langgraph-sdk<0.3.0,>=0.2.0->langgraph) (3.10)\n",
      "Requirement already satisfied: h11>=0.16 in /home/michael/.local/pipx/shared/lib/python3.11/site-packages (from httpcore==1.*->httpx>=0.25.2->langgraph-sdk<0.3.0,>=0.2.0->langgraph) (0.16.0)\n",
      "Requirement already satisfied: langsmith>=0.3.45 in /home/michael/.local/pipx/shared/lib/python3.11/site-packages (from langchain-core>=0.1->langgraph) (0.4.12)\n",
      "Requirement already satisfied: tenacity!=8.4.0,<10.0.0,>=8.1.0 in /home/michael/.local/pipx/shared/lib/python3.11/site-packages (from langchain-core>=0.1->langgraph) (9.1.2)\n",
      "Requirement already satisfied: jsonpatch<2.0,>=1.33 in /home/michael/.local/pipx/shared/lib/python3.11/site-packages (from langchain-core>=0.1->langgraph) (1.33)\n",
      "Requirement already satisfied: PyYAML>=5.3 in /home/michael/.local/pipx/shared/lib/python3.11/site-packages (from langchain-core>=0.1->langgraph) (6.0.2)\n",
      "Requirement already satisfied: typing-extensions>=4.7 in /home/michael/.local/pipx/shared/lib/python3.11/site-packages (from langchain-core>=0.1->langgraph) (4.14.1)\n",
      "Requirement already satisfied: packaging>=23.2 in /home/michael/.local/pipx/shared/lib/python3.11/site-packages (from langchain-core>=0.1->langgraph) (25.0)\n",
      "Requirement already satisfied: jsonpointer>=1.9 in /home/michael/.local/pipx/shared/lib/python3.11/site-packages (from jsonpatch<2.0,>=1.33->langchain-core>=0.1->langgraph) (3.0.0)\n",
      "Requirement already satisfied: requests-toolbelt>=1.0.0 in /home/michael/.local/pipx/shared/lib/python3.11/site-packages (from langsmith>=0.3.45->langchain-core>=0.1->langgraph) (1.0.0)\n",
      "Requirement already satisfied: requests>=2.0.0 in /home/michael/.local/pipx/shared/lib/python3.11/site-packages (from langsmith>=0.3.45->langchain-core>=0.1->langgraph) (2.32.4)\n",
      "Requirement already satisfied: zstandard>=0.23.0 in /home/michael/.local/pipx/shared/lib/python3.11/site-packages (from langsmith>=0.3.45->langchain-core>=0.1->langgraph) (0.23.0)\n",
      "Requirement already satisfied: annotated-types>=0.6.0 in /home/michael/.local/pipx/shared/lib/python3.11/site-packages (from pydantic>=2.7.4->langgraph) (0.7.0)\n",
      "Requirement already satisfied: pydantic-core==2.33.2 in /home/michael/.local/pipx/shared/lib/python3.11/site-packages (from pydantic>=2.7.4->langgraph) (2.33.2)\n",
      "Requirement already satisfied: typing-inspection>=0.4.0 in /home/michael/.local/pipx/shared/lib/python3.11/site-packages (from pydantic>=2.7.4->langgraph) (0.4.1)\n",
      "Requirement already satisfied: charset_normalizer<4,>=2 in /home/michael/.local/pipx/shared/lib/python3.11/site-packages (from requests>=2.0.0->langsmith>=0.3.45->langchain-core>=0.1->langgraph) (3.4.2)\n",
      "Requirement already satisfied: urllib3<3,>=1.21.1 in /home/michael/.local/pipx/shared/lib/python3.11/site-packages (from requests>=2.0.0->langsmith>=0.3.45->langchain-core>=0.1->langgraph) (2.5.0)\n",
      "Requirement already satisfied: sniffio>=1.1 in /home/michael/.local/pipx/shared/lib/python3.11/site-packages (from anyio->httpx>=0.25.2->langgraph-sdk<0.3.0,>=0.2.0->langgraph) (1.3.1)\n",
      "Requirement already satisfied: allosaurus in /home/michael/.local/pipx/shared/lib/python3.11/site-packages (1.0.2)\n",
      "Requirement already satisfied: scipy in /home/michael/.local/pipx/shared/lib/python3.11/site-packages (from allosaurus) (1.16.1)\n",
      "Requirement already satisfied: numpy in /home/michael/.local/pipx/shared/lib/python3.11/site-packages (from allosaurus) (2.2.6)\n",
      "Requirement already satisfied: resampy in /home/michael/.local/pipx/shared/lib/python3.11/site-packages (from allosaurus) (0.4.3)\n",
      "Requirement already satisfied: panphon in /home/michael/.local/pipx/shared/lib/python3.11/site-packages (from allosaurus) (0.22.2)\n",
      "Requirement already satisfied: torch in /home/michael/.local/pipx/shared/lib/python3.11/site-packages (from allosaurus) (2.8.0)\n",
      "Requirement already satisfied: editdistance in /home/michael/.local/pipx/shared/lib/python3.11/site-packages (from allosaurus) (0.8.1)\n",
      "Requirement already satisfied: setuptools in /home/michael/.local/pipx/shared/lib/python3.11/site-packages (from panphon->allosaurus) (80.9.0)\n",
      "Requirement already satisfied: unicodecsv in /home/michael/.local/pipx/shared/lib/python3.11/site-packages (from panphon->allosaurus) (0.14.1)\n",
      "Requirement already satisfied: PyYAML in /home/michael/.local/pipx/shared/lib/python3.11/site-packages (from panphon->allosaurus) (6.0.2)\n",
      "Requirement already satisfied: regex in /home/michael/.local/pipx/shared/lib/python3.11/site-packages (from panphon->allosaurus) (2025.7.34)\n",
      "Requirement already satisfied: munkres in /home/michael/.local/pipx/shared/lib/python3.11/site-packages (from panphon->allosaurus) (1.1.4)\n",
      "Requirement already satisfied: pandas in /home/michael/.local/pipx/shared/lib/python3.11/site-packages (from panphon->allosaurus) (2.3.1)\n",
      "Requirement already satisfied: python-dateutil>=2.8.2 in /home/michael/.local/pipx/shared/lib/python3.11/site-packages (from pandas->panphon->allosaurus) (2.9.0.post0)\n",
      "Requirement already satisfied: pytz>=2020.1 in /home/michael/.local/pipx/shared/lib/python3.11/site-packages (from pandas->panphon->allosaurus) (2025.2)\n",
      "Requirement already satisfied: tzdata>=2022.7 in /home/michael/.local/pipx/shared/lib/python3.11/site-packages (from pandas->panphon->allosaurus) (2025.2)\n",
      "Requirement already satisfied: six>=1.5 in /home/michael/.local/pipx/shared/lib/python3.11/site-packages (from python-dateutil>=2.8.2->pandas->panphon->allosaurus) (1.17.0)\n",
      "Requirement already satisfied: numba>=0.53 in /home/michael/.local/pipx/shared/lib/python3.11/site-packages (from resampy->allosaurus) (0.61.2)\n",
      "Requirement already satisfied: llvmlite<0.45,>=0.44.0dev0 in /home/michael/.local/pipx/shared/lib/python3.11/site-packages (from numba>=0.53->resampy->allosaurus) (0.44.0)\n",
      "Requirement already satisfied: filelock in /home/michael/.local/pipx/shared/lib/python3.11/site-packages (from torch->allosaurus) (3.18.0)\n",
      "Requirement already satisfied: typing-extensions>=4.10.0 in /home/michael/.local/pipx/shared/lib/python3.11/site-packages (from torch->allosaurus) (4.14.1)\n",
      "Requirement already satisfied: sympy>=1.13.3 in /home/michael/.local/pipx/shared/lib/python3.11/site-packages (from torch->allosaurus) (1.14.0)\n",
      "Requirement already satisfied: networkx in /home/michael/.local/pipx/shared/lib/python3.11/site-packages (from torch->allosaurus) (3.5)\n",
      "Requirement already satisfied: jinja2 in /home/michael/.local/pipx/shared/lib/python3.11/site-packages (from torch->allosaurus) (3.1.6)\n",
      "Requirement already satisfied: fsspec in /home/michael/.local/pipx/shared/lib/python3.11/site-packages (from torch->allosaurus) (2025.7.0)\n",
      "Requirement already satisfied: nvidia-cuda-nvrtc-cu12==12.8.93 in /home/michael/.local/pipx/shared/lib/python3.11/site-packages (from torch->allosaurus) (12.8.93)\n",
      "Requirement already satisfied: nvidia-cuda-runtime-cu12==12.8.90 in /home/michael/.local/pipx/shared/lib/python3.11/site-packages (from torch->allosaurus) (12.8.90)\n",
      "Requirement already satisfied: nvidia-cuda-cupti-cu12==12.8.90 in /home/michael/.local/pipx/shared/lib/python3.11/site-packages (from torch->allosaurus) (12.8.90)\n",
      "Requirement already satisfied: nvidia-cudnn-cu12==9.10.2.21 in /home/michael/.local/pipx/shared/lib/python3.11/site-packages (from torch->allosaurus) (9.10.2.21)\n",
      "Requirement already satisfied: nvidia-cublas-cu12==12.8.4.1 in /home/michael/.local/pipx/shared/lib/python3.11/site-packages (from torch->allosaurus) (12.8.4.1)\n",
      "Requirement already satisfied: nvidia-cufft-cu12==11.3.3.83 in /home/michael/.local/pipx/shared/lib/python3.11/site-packages (from torch->allosaurus) (11.3.3.83)\n",
      "Requirement already satisfied: nvidia-curand-cu12==10.3.9.90 in /home/michael/.local/pipx/shared/lib/python3.11/site-packages (from torch->allosaurus) (10.3.9.90)\n",
      "Requirement already satisfied: nvidia-cusolver-cu12==11.7.3.90 in /home/michael/.local/pipx/shared/lib/python3.11/site-packages (from torch->allosaurus) (11.7.3.90)\n",
      "Requirement already satisfied: nvidia-cusparse-cu12==12.5.8.93 in /home/michael/.local/pipx/shared/lib/python3.11/site-packages (from torch->allosaurus) (12.5.8.93)\n",
      "Requirement already satisfied: nvidia-cusparselt-cu12==0.7.1 in /home/michael/.local/pipx/shared/lib/python3.11/site-packages (from torch->allosaurus) (0.7.1)\n",
      "Requirement already satisfied: nvidia-nccl-cu12==2.27.3 in /home/michael/.local/pipx/shared/lib/python3.11/site-packages (from torch->allosaurus) (2.27.3)\n",
      "Requirement already satisfied: nvidia-nvtx-cu12==12.8.90 in /home/michael/.local/pipx/shared/lib/python3.11/site-packages (from torch->allosaurus) (12.8.90)\n",
      "Requirement already satisfied: nvidia-nvjitlink-cu12==12.8.93 in /home/michael/.local/pipx/shared/lib/python3.11/site-packages (from torch->allosaurus) (12.8.93)\n",
      "Requirement already satisfied: nvidia-cufile-cu12==1.13.1.3 in /home/michael/.local/pipx/shared/lib/python3.11/site-packages (from torch->allosaurus) (1.13.1.3)\n",
      "Requirement already satisfied: triton==3.4.0 in /home/michael/.local/pipx/shared/lib/python3.11/site-packages (from torch->allosaurus) (3.4.0)\n",
      "Requirement already satisfied: mpmath<1.4,>=1.1.0 in /home/michael/.local/pipx/shared/lib/python3.11/site-packages (from sympy>=1.13.3->torch->allosaurus) (1.3.0)\n",
      "Requirement already satisfied: MarkupSafe>=2.0 in /home/michael/.local/pipx/shared/lib/python3.11/site-packages (from jinja2->torch->allosaurus) (3.0.2)\n",
      "Requirement already satisfied: gTTS in /home/michael/.local/pipx/shared/lib/python3.11/site-packages (2.5.4)\n",
      "Requirement already satisfied: requests<3,>=2.27 in /home/michael/.local/pipx/shared/lib/python3.11/site-packages (from gTTS) (2.32.4)\n",
      "Requirement already satisfied: click<8.2,>=7.1 in /home/michael/.local/pipx/shared/lib/python3.11/site-packages (from gTTS) (8.1.8)\n",
      "Requirement already satisfied: charset_normalizer<4,>=2 in /home/michael/.local/pipx/shared/lib/python3.11/site-packages (from requests<3,>=2.27->gTTS) (3.4.2)\n",
      "Requirement already satisfied: idna<4,>=2.5 in /home/michael/.local/pipx/shared/lib/python3.11/site-packages (from requests<3,>=2.27->gTTS) (3.10)\n",
      "Requirement already satisfied: urllib3<3,>=1.21.1 in /home/michael/.local/pipx/shared/lib/python3.11/site-packages (from requests<3,>=2.27->gTTS) (2.5.0)\n",
      "Requirement already satisfied: certifi>=2017.4.17 in /home/michael/.local/pipx/shared/lib/python3.11/site-packages (from requests<3,>=2.27->gTTS) (2025.8.3)\n",
      "Requirement already satisfied: pydub in /home/michael/.local/pipx/shared/lib/python3.11/site-packages (0.25.1)\n"
     ]
    }
   ],
   "source": [
    "!pip install langchain\n",
    "!pip install langgraph\n",
    "!pip install -qU langchain[google-genai]\n",
    "!pip install allosaurus\n",
    "!pip install gTTS\n",
    "!pip install pydub"
   ]
  },
  {
   "cell_type": "code",
   "execution_count": 2,
   "metadata": {
    "id": "9k_almScvADM"
   },
   "outputs": [
    {
     "name": "stdin",
     "output_type": "stream",
     "text": [
      "Enter API key for Google Gemini:  ········\n"
     ]
    }
   ],
   "source": [
    "import getpass\n",
    "import os\n",
    "\n",
    "if not os.environ.get(\"GOOGLE_API_KEY\"):\n",
    "  os.environ[\"GOOGLE_API_KEY\"] = getpass.getpass(\"Enter API key for Google Gemini: \")\n",
    "\n",
    "from langchain.chat_models import init_chat_model\n",
    "\n",
    "model = init_chat_model(\"gemini-2.0-flash\", model_provider=\"google_genai\")"
   ]
  },
  {
   "cell_type": "code",
   "execution_count": 3,
   "metadata": {
    "id": "Q7tgLoYXZKV5"
   },
   "outputs": [],
   "source": [
    "from langchain_core.prompts import ChatPromptTemplate, MessagesPlaceholder\n",
    "chat_prompt_template = ChatPromptTemplate.from_messages(\n",
    "    [(\"system\", \"Act as an expert Chinese language tutor with over 10 years of experience. Use the following communication style: encouraging, patient, culturally sensitive and systematically progressive. Gently correct mistakes (including pronounciation mistakes) in real time. Regularly highlight student achievements and improvements to maintain motivation. You are tutoring a native US English speaker. When speaking Chinese, never use vocabulary about the pre-2021 HSK-3 level under any circumstances.\",), MessagesPlaceholder(variable_name=\"messages\"),]\n",
    ")"
   ]
  },
  {
   "cell_type": "code",
   "execution_count": 4,
   "metadata": {
    "id": "7BE3Msz-Z6A7"
   },
   "outputs": [],
   "source": [
    "from langgraph.checkpoint.memory import MemorySaver\n",
    "from langgraph.graph import START, MessagesState, StateGraph\n",
    "\n",
    "# Define a new graph\n",
    "workflow = StateGraph(state_schema=MessagesState)\n",
    "\n",
    "def call_model(state: MessagesState):\n",
    "    prompt = chat_prompt_template.invoke(state[\"messages\"])\n",
    "    response = model.invoke(prompt)\n",
    "    return {\"messages\": response}\n",
    "\n",
    "# Define the (single) node in the graph\n",
    "workflow.add_edge(START, \"model\")\n",
    "workflow.add_node(\"model\", call_model)\n",
    "\n",
    "#Adding Memory\n",
    "memory = MemorySaver()\n",
    "app = workflow.compile(checkpointer=memory)"
   ]
  },
  {
   "cell_type": "code",
   "execution_count": null,
   "metadata": {
    "colab": {
     "base_uri": "https://localhost:8080/",
     "height": 1000
    },
    "editable": true,
    "id": "VAhr3fpKm_nN",
    "outputId": "b3b40980-8c3d-4622-dbf8-44fd07eb3e2a",
    "slideshow": {
     "slide_type": ""
    },
    "tags": []
   },
   "outputs": [
    {
     "name": "stdin",
     "output_type": "stream",
     "text": [
      "You>: 你好吗？\n"
     ]
    },
    {
     "name": "stdout",
     "output_type": "stream",
     "text": [
      "Teacher>:==================================\u001b[1m Ai Message \u001b[0m==================================\n",
      "\n",
      "你好！我很好，谢谢你。How are you today?\n",
      "\n",
      "That's a great start! 你的发音很标准 (nǐ de fā yīn hěn biāo zhǔn - your pronunciation is very standard)! Keep up the good work!\n",
      "\n",
      "Now, let's try something a little more. Can you tell me how you're feeling today, using a bit more detail than just \"fine\"? For example, are you happy, excited, tired, or something else? Let's use some new words!\n"
     ]
    },
    {
     "name": "stderr",
     "output_type": "stream",
     "text": [
      "Input #0, wav, from '/tmp/tmpvpo6fsnx.wav':   0KB sq=    0B f=0/0   \n",
      "  Duration: 00:00:56.21, bitrate: 384 kb/s\n",
      "  Stream #0:0: Audio: pcm_s16le ([1][0][0][0] / 0x0001), 24000 Hz, 1 channels, s16, 384 kb/s\n",
      "  56.11 M-A:  0.000 fd=   0 aq=    0KB vq=    0KB sq=    0B f=0/0   "
     ]
    },
    {
     "name": "stdout",
     "output_type": "stream",
     "text": [
      "\n"
     ]
    },
    {
     "name": "stdin",
     "output_type": "stream",
     "text": [
      "You>: 好吧！我今天下午一点生气。\n"
     ]
    },
    {
     "name": "stdout",
     "output_type": "stream",
     "text": [
      "Teacher>:==================================\u001b[1m Ai Message \u001b[0m==================================\n",
      "\n",
      "很好！你用 “生气 (shēng qì - angry)” 这个词很棒！\n",
      "\n",
      "However, there are a couple of small things we can adjust to make it sound more natural.\n",
      "\n",
      "*   Firstly, in Chinese, we usually put the time **before** the subject in a sentence.\n",
      "*   Secondly, to express being angry \"at\" a specific time, you can use \"有点儿 (yǒu diǎnr)\" which means \"a little bit\".\n",
      "\n",
      "So, instead of saying \"我今天下午一点生气 (wǒ jīntiān xiàwǔ yī diǎn shēng qì)\", you could say:\n",
      "\n",
      "\"今天下午一点我 **有点儿** 生气 (jīntiān xiàwǔ yī diǎn wǒ yǒu diǎnr shēng qì).\"\n",
      "\n",
      "Can you try saying that for me? Don't worry if it's not perfect, I'm here to help! 加油 (jiāyóu - add oil/you can do it)!\n"
     ]
    },
    {
     "name": "stderr",
     "output_type": "stream",
     "text": [
      "Input #0, wav, from '/tmp/tmp0g1ailnz.wav':   0KB sq=    0B f=0/0   \n",
      "  Duration: 00:01:37.66, bitrate: 384 kb/s\n",
      "  Stream #0:0: Audio: pcm_s16le ([1][0][0][0] / 0x0001), 24000 Hz, 1 channels, s16, 384 kb/s\n",
      "  97.50 M-A: -0.000 fd=   0 aq=    0KB vq=    0KB sq=    0B f=0/0   "
     ]
    },
    {
     "name": "stdout",
     "output_type": "stream",
     "text": [
      "\n"
     ]
    },
    {
     "name": "stderr",
     "output_type": "stream",
     "text": [
      "  97.59 M-A: -0.000 fd=   0 aq=    0KB vq=    0KB sq=    0B f=0/0   "
     ]
    },
    {
     "name": "stdin",
     "output_type": "stream",
     "text": [
      "You>: 哥们儿，我写对了！\n"
     ]
    },
    {
     "name": "stdout",
     "output_type": "stream",
     "text": [
      "Teacher>:==================================\u001b[1m Ai Message \u001b[0m==================================\n",
      "\n",
      "太棒了！(Tài bàng le! - Awesome!) 你写对了！ (Nǐ xiě duì le! - You wrote it correctly!) That's fantastic! I'm so happy to see you're understanding the sentence structure and using the characters correctly.\n",
      "\n",
      "Now, about the word \"哥们儿 (gēmenr)\". It means \"bro\" or \"buddy\". While it's not incorrect, it's quite informal. It's the kind of word you'd use with your close friends. When talking to a teacher or someone you want to show respect to, it's better to use a more polite term like \"老师 (lǎoshī - teacher)\" or just stick to \"你 (nǐ - you)\".\n",
      "\n",
      "So, you could say: \"老师，我写对了！(Lǎoshī, wǒ xiě duì le! - Teacher, I wrote it correctly!)\"\n",
      "\n",
      "Does that make sense?\n"
     ]
    },
    {
     "name": "stderr",
     "output_type": "stream",
     "text": [
      "Input #0, wav, from '/tmp/tmp5cf5oj4l.wav':   0KB sq=    0B f=0/0   \n",
      "  Duration: 00:01:37.10, bitrate: 384 kb/s\n",
      "  Stream #0:0: Audio: pcm_s16le ([1][0][0][0] / 0x0001), 24000 Hz, 1 channels, s16, 384 kb/s\n",
      "  96.90 M-A:  0.000 fd=   0 aq=    0KB vq=    0KB sq=    0B f=0/0   "
     ]
    },
    {
     "name": "stdout",
     "output_type": "stream",
     "text": [
      "\n"
     ]
    },
    {
     "name": "stderr",
     "output_type": "stream",
     "text": [
      "  96.99 M-A:  0.000 fd=   0 aq=    0KB vq=    0KB sq=    0B f=0/0   "
     ]
    }
   ],
   "source": [
    "from langchain_core.messages import HumanMessage\n",
    "from gtts import gTTS\n",
    "from io import BytesIO\n",
    "from pydub import AudioSegment\n",
    "from pydub.playback import play\n",
    "\n",
    "config = {\"configurable\": {\"thread_id\": \"CM\"}}\n",
    "while True:\n",
    "  user_input = input(\"You>:\")\n",
    "  input_messages = [HumanMessage(user_input)]\n",
    "  output = app.invoke({\"messages\": input_messages}, config)\n",
    "  last_message = output[\"messages\"][-1]\n",
    "  print(\"Teacher>:\", end=\"\")\n",
    "  last_message.pretty_print()\n",
    "  # Use gTTS and pygame to say the AI message with Taiwanese voice\n",
    "  mp3_file_like = BytesIO()\n",
    "  tts = gTTS(text=last_message.text(), lang='zh-TW', slow=True)\n",
    "  tts.write_to_fp(mp3_file_like)\n",
    "  mp3_file_like.seek(0)\n",
    "  # Convert the file-like object to an AudioSegment\n",
    "  audio = AudioSegment.from_mp3(BytesIO(mp3_file_like.read()))\n",
    "  # Play the sound\n",
    "  play(audio)\n",
    "  mp3_file_like.close()"
   ]
  }
 ],
 "metadata": {
  "colab": {
   "provenance": []
  },
  "kernelspec": {
   "display_name": "Python 3 (ipykernel)",
   "language": "python",
   "name": "python3"
  },
  "language_info": {
   "codemirror_mode": {
    "name": "ipython",
    "version": 3
   },
   "file_extension": ".py",
   "mimetype": "text/x-python",
   "name": "python",
   "nbconvert_exporter": "python",
   "pygments_lexer": "ipython3",
   "version": "3.11.2"
  }
 },
 "nbformat": 4,
 "nbformat_minor": 4
}
