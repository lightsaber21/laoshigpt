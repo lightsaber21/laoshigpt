{
 "cells": [
  {
   "cell_type": "code",
   "execution_count": 1,
   "metadata": {
    "colab": {
     "base_uri": "https://localhost:8080/"
    },
    "id": "ShsfyGq0u1KI",
    "outputId": "97802899-a499-49a9-cf0c-dca0c160b201"
   },
   "outputs": [
    {
     "name": "stdout",
     "output_type": "stream",
     "text": [
      "Requirement already satisfied: langchain in /home/neon/Documents/laoshi/lib/python3.12/site-packages (0.3.27)\n",
      "Requirement already satisfied: langchain-core<1.0.0,>=0.3.72 in /home/neon/Documents/laoshi/lib/python3.12/site-packages (from langchain) (0.3.74)\n",
      "Requirement already satisfied: langchain-text-splitters<1.0.0,>=0.3.9 in /home/neon/Documents/laoshi/lib/python3.12/site-packages (from langchain) (0.3.9)\n",
      "Requirement already satisfied: langsmith>=0.1.17 in /home/neon/Documents/laoshi/lib/python3.12/site-packages (from langchain) (0.4.13)\n",
      "Requirement already satisfied: pydantic<3.0.0,>=2.7.4 in /home/neon/Documents/laoshi/lib/python3.12/site-packages (from langchain) (2.11.7)\n",
      "Requirement already satisfied: SQLAlchemy<3,>=1.4 in /home/neon/Documents/laoshi/lib/python3.12/site-packages (from langchain) (2.0.42)\n",
      "Requirement already satisfied: requests<3,>=2 in /home/neon/Documents/laoshi/lib/python3.12/site-packages (from langchain) (2.32.4)\n",
      "Requirement already satisfied: PyYAML>=5.3 in /home/neon/Documents/laoshi/lib/python3.12/site-packages (from langchain) (6.0.2)\n",
      "Requirement already satisfied: tenacity!=8.4.0,<10.0.0,>=8.1.0 in /home/neon/Documents/laoshi/lib/python3.12/site-packages (from langchain-core<1.0.0,>=0.3.72->langchain) (9.1.2)\n",
      "Requirement already satisfied: jsonpatch<2.0,>=1.33 in /home/neon/Documents/laoshi/lib/python3.12/site-packages (from langchain-core<1.0.0,>=0.3.72->langchain) (1.33)\n",
      "Requirement already satisfied: typing-extensions>=4.7 in /home/neon/Documents/laoshi/lib/python3.12/site-packages (from langchain-core<1.0.0,>=0.3.72->langchain) (4.14.1)\n",
      "Requirement already satisfied: packaging>=23.2 in /home/neon/Documents/laoshi/lib/python3.12/site-packages (from langchain-core<1.0.0,>=0.3.72->langchain) (25.0)\n",
      "Requirement already satisfied: httpx<1,>=0.23.0 in /home/neon/Documents/laoshi/lib/python3.12/site-packages (from langsmith>=0.1.17->langchain) (0.28.1)\n",
      "Requirement already satisfied: orjson>=3.9.14 in /home/neon/Documents/laoshi/lib/python3.12/site-packages (from langsmith>=0.1.17->langchain) (3.11.1)\n",
      "Requirement already satisfied: requests-toolbelt>=1.0.0 in /home/neon/Documents/laoshi/lib/python3.12/site-packages (from langsmith>=0.1.17->langchain) (1.0.0)\n",
      "Requirement already satisfied: zstandard>=0.23.0 in /home/neon/Documents/laoshi/lib/python3.12/site-packages (from langsmith>=0.1.17->langchain) (0.23.0)\n",
      "Requirement already satisfied: annotated-types>=0.6.0 in /home/neon/Documents/laoshi/lib/python3.12/site-packages (from pydantic<3.0.0,>=2.7.4->langchain) (0.7.0)\n",
      "Requirement already satisfied: pydantic-core==2.33.2 in /home/neon/Documents/laoshi/lib/python3.12/site-packages (from pydantic<3.0.0,>=2.7.4->langchain) (2.33.2)\n",
      "Requirement already satisfied: typing-inspection>=0.4.0 in /home/neon/Documents/laoshi/lib/python3.12/site-packages (from pydantic<3.0.0,>=2.7.4->langchain) (0.4.1)\n",
      "Requirement already satisfied: charset_normalizer<4,>=2 in /home/neon/Documents/laoshi/lib/python3.12/site-packages (from requests<3,>=2->langchain) (3.4.2)\n",
      "Requirement already satisfied: idna<4,>=2.5 in /home/neon/Documents/laoshi/lib/python3.12/site-packages (from requests<3,>=2->langchain) (3.10)\n",
      "Requirement already satisfied: urllib3<3,>=1.21.1 in /home/neon/Documents/laoshi/lib/python3.12/site-packages (from requests<3,>=2->langchain) (2.5.0)\n",
      "Requirement already satisfied: certifi>=2017.4.17 in /home/neon/Documents/laoshi/lib/python3.12/site-packages (from requests<3,>=2->langchain) (2025.8.3)\n",
      "Requirement already satisfied: greenlet>=1 in /home/neon/Documents/laoshi/lib/python3.12/site-packages (from SQLAlchemy<3,>=1.4->langchain) (3.2.4)\n",
      "Requirement already satisfied: anyio in /home/neon/Documents/laoshi/lib/python3.12/site-packages (from httpx<1,>=0.23.0->langsmith>=0.1.17->langchain) (4.10.0)\n",
      "Requirement already satisfied: httpcore==1.* in /home/neon/Documents/laoshi/lib/python3.12/site-packages (from httpx<1,>=0.23.0->langsmith>=0.1.17->langchain) (1.0.9)\n",
      "Requirement already satisfied: h11>=0.16 in /home/neon/Documents/laoshi/lib/python3.12/site-packages (from httpcore==1.*->httpx<1,>=0.23.0->langsmith>=0.1.17->langchain) (0.16.0)\n",
      "Requirement already satisfied: jsonpointer>=1.9 in /home/neon/Documents/laoshi/lib/python3.12/site-packages (from jsonpatch<2.0,>=1.33->langchain-core<1.0.0,>=0.3.72->langchain) (3.0.0)\n",
      "Requirement already satisfied: sniffio>=1.1 in /home/neon/Documents/laoshi/lib/python3.12/site-packages (from anyio->httpx<1,>=0.23.0->langsmith>=0.1.17->langchain) (1.3.1)\n",
      "Requirement already satisfied: langgraph in /home/neon/Documents/laoshi/lib/python3.12/site-packages (0.6.4)\n",
      "Requirement already satisfied: langchain-core>=0.1 in /home/neon/Documents/laoshi/lib/python3.12/site-packages (from langgraph) (0.3.74)\n",
      "Requirement already satisfied: langgraph-checkpoint<3.0.0,>=2.1.0 in /home/neon/Documents/laoshi/lib/python3.12/site-packages (from langgraph) (2.1.1)\n",
      "Requirement already satisfied: langgraph-prebuilt<0.7.0,>=0.6.0 in /home/neon/Documents/laoshi/lib/python3.12/site-packages (from langgraph) (0.6.4)\n",
      "Requirement already satisfied: langgraph-sdk<0.3.0,>=0.2.0 in /home/neon/Documents/laoshi/lib/python3.12/site-packages (from langgraph) (0.2.0)\n",
      "Requirement already satisfied: pydantic>=2.7.4 in /home/neon/Documents/laoshi/lib/python3.12/site-packages (from langgraph) (2.11.7)\n",
      "Requirement already satisfied: xxhash>=3.5.0 in /home/neon/Documents/laoshi/lib/python3.12/site-packages (from langgraph) (3.5.0)\n",
      "Requirement already satisfied: langsmith>=0.3.45 in /home/neon/Documents/laoshi/lib/python3.12/site-packages (from langchain-core>=0.1->langgraph) (0.4.13)\n",
      "Requirement already satisfied: tenacity!=8.4.0,<10.0.0,>=8.1.0 in /home/neon/Documents/laoshi/lib/python3.12/site-packages (from langchain-core>=0.1->langgraph) (9.1.2)\n",
      "Requirement already satisfied: jsonpatch<2.0,>=1.33 in /home/neon/Documents/laoshi/lib/python3.12/site-packages (from langchain-core>=0.1->langgraph) (1.33)\n",
      "Requirement already satisfied: PyYAML>=5.3 in /home/neon/Documents/laoshi/lib/python3.12/site-packages (from langchain-core>=0.1->langgraph) (6.0.2)\n",
      "Requirement already satisfied: typing-extensions>=4.7 in /home/neon/Documents/laoshi/lib/python3.12/site-packages (from langchain-core>=0.1->langgraph) (4.14.1)\n",
      "Requirement already satisfied: packaging>=23.2 in /home/neon/Documents/laoshi/lib/python3.12/site-packages (from langchain-core>=0.1->langgraph) (25.0)\n",
      "Requirement already satisfied: ormsgpack>=1.10.0 in /home/neon/Documents/laoshi/lib/python3.12/site-packages (from langgraph-checkpoint<3.0.0,>=2.1.0->langgraph) (1.10.0)\n",
      "Requirement already satisfied: httpx>=0.25.2 in /home/neon/Documents/laoshi/lib/python3.12/site-packages (from langgraph-sdk<0.3.0,>=0.2.0->langgraph) (0.28.1)\n",
      "Requirement already satisfied: orjson>=3.10.1 in /home/neon/Documents/laoshi/lib/python3.12/site-packages (from langgraph-sdk<0.3.0,>=0.2.0->langgraph) (3.11.1)\n",
      "Requirement already satisfied: annotated-types>=0.6.0 in /home/neon/Documents/laoshi/lib/python3.12/site-packages (from pydantic>=2.7.4->langgraph) (0.7.0)\n",
      "Requirement already satisfied: pydantic-core==2.33.2 in /home/neon/Documents/laoshi/lib/python3.12/site-packages (from pydantic>=2.7.4->langgraph) (2.33.2)\n",
      "Requirement already satisfied: typing-inspection>=0.4.0 in /home/neon/Documents/laoshi/lib/python3.12/site-packages (from pydantic>=2.7.4->langgraph) (0.4.1)\n",
      "Requirement already satisfied: anyio in /home/neon/Documents/laoshi/lib/python3.12/site-packages (from httpx>=0.25.2->langgraph-sdk<0.3.0,>=0.2.0->langgraph) (4.10.0)\n",
      "Requirement already satisfied: certifi in /home/neon/Documents/laoshi/lib/python3.12/site-packages (from httpx>=0.25.2->langgraph-sdk<0.3.0,>=0.2.0->langgraph) (2025.8.3)\n",
      "Requirement already satisfied: httpcore==1.* in /home/neon/Documents/laoshi/lib/python3.12/site-packages (from httpx>=0.25.2->langgraph-sdk<0.3.0,>=0.2.0->langgraph) (1.0.9)\n",
      "Requirement already satisfied: idna in /home/neon/Documents/laoshi/lib/python3.12/site-packages (from httpx>=0.25.2->langgraph-sdk<0.3.0,>=0.2.0->langgraph) (3.10)\n",
      "Requirement already satisfied: h11>=0.16 in /home/neon/Documents/laoshi/lib/python3.12/site-packages (from httpcore==1.*->httpx>=0.25.2->langgraph-sdk<0.3.0,>=0.2.0->langgraph) (0.16.0)\n",
      "Requirement already satisfied: jsonpointer>=1.9 in /home/neon/Documents/laoshi/lib/python3.12/site-packages (from jsonpatch<2.0,>=1.33->langchain-core>=0.1->langgraph) (3.0.0)\n",
      "Requirement already satisfied: requests-toolbelt>=1.0.0 in /home/neon/Documents/laoshi/lib/python3.12/site-packages (from langsmith>=0.3.45->langchain-core>=0.1->langgraph) (1.0.0)\n",
      "Requirement already satisfied: requests>=2.0.0 in /home/neon/Documents/laoshi/lib/python3.12/site-packages (from langsmith>=0.3.45->langchain-core>=0.1->langgraph) (2.32.4)\n",
      "Requirement already satisfied: zstandard>=0.23.0 in /home/neon/Documents/laoshi/lib/python3.12/site-packages (from langsmith>=0.3.45->langchain-core>=0.1->langgraph) (0.23.0)\n",
      "Requirement already satisfied: charset_normalizer<4,>=2 in /home/neon/Documents/laoshi/lib/python3.12/site-packages (from requests>=2.0.0->langsmith>=0.3.45->langchain-core>=0.1->langgraph) (3.4.2)\n",
      "Requirement already satisfied: urllib3<3,>=1.21.1 in /home/neon/Documents/laoshi/lib/python3.12/site-packages (from requests>=2.0.0->langsmith>=0.3.45->langchain-core>=0.1->langgraph) (2.5.0)\n",
      "Requirement already satisfied: sniffio>=1.1 in /home/neon/Documents/laoshi/lib/python3.12/site-packages (from anyio->httpx>=0.25.2->langgraph-sdk<0.3.0,>=0.2.0->langgraph) (1.3.1)\n",
      "Requirement already satisfied: allosaurus in /home/neon/Documents/laoshi/lib/python3.12/site-packages (1.0.2)\n",
      "Requirement already satisfied: scipy in /home/neon/Documents/laoshi/lib/python3.12/site-packages (from allosaurus) (1.16.1)\n",
      "Requirement already satisfied: numpy in /home/neon/Documents/laoshi/lib/python3.12/site-packages (from allosaurus) (2.2.6)\n",
      "Requirement already satisfied: resampy in /home/neon/Documents/laoshi/lib/python3.12/site-packages (from allosaurus) (0.4.3)\n",
      "Requirement already satisfied: panphon in /home/neon/Documents/laoshi/lib/python3.12/site-packages (from allosaurus) (0.22.2)\n",
      "Requirement already satisfied: torch in /home/neon/Documents/laoshi/lib/python3.12/site-packages (from allosaurus) (2.8.0)\n",
      "Requirement already satisfied: editdistance in /home/neon/Documents/laoshi/lib/python3.12/site-packages (from allosaurus) (0.8.1)\n",
      "Requirement already satisfied: setuptools in /home/neon/Documents/laoshi/lib/python3.12/site-packages (from panphon->allosaurus) (80.9.0)\n",
      "Requirement already satisfied: unicodecsv in /home/neon/Documents/laoshi/lib/python3.12/site-packages (from panphon->allosaurus) (0.14.1)\n",
      "Requirement already satisfied: PyYAML in /home/neon/Documents/laoshi/lib/python3.12/site-packages (from panphon->allosaurus) (6.0.2)\n",
      "Requirement already satisfied: regex in /home/neon/Documents/laoshi/lib/python3.12/site-packages (from panphon->allosaurus) (2025.7.34)\n",
      "Requirement already satisfied: munkres in /home/neon/Documents/laoshi/lib/python3.12/site-packages (from panphon->allosaurus) (1.1.4)\n",
      "Requirement already satisfied: pandas in /home/neon/Documents/laoshi/lib/python3.12/site-packages (from panphon->allosaurus) (2.3.1)\n",
      "Requirement already satisfied: numba>=0.53 in /home/neon/Documents/laoshi/lib/python3.12/site-packages (from resampy->allosaurus) (0.61.2)\n",
      "Requirement already satisfied: filelock in /home/neon/Documents/laoshi/lib/python3.12/site-packages (from torch->allosaurus) (3.18.0)\n",
      "Requirement already satisfied: typing-extensions>=4.10.0 in /home/neon/Documents/laoshi/lib/python3.12/site-packages (from torch->allosaurus) (4.14.1)\n",
      "Requirement already satisfied: sympy>=1.13.3 in /home/neon/Documents/laoshi/lib/python3.12/site-packages (from torch->allosaurus) (1.14.0)\n",
      "Requirement already satisfied: networkx in /home/neon/Documents/laoshi/lib/python3.12/site-packages (from torch->allosaurus) (3.5)\n",
      "Requirement already satisfied: jinja2 in /home/neon/Documents/laoshi/lib/python3.12/site-packages (from torch->allosaurus) (3.1.6)\n",
      "Requirement already satisfied: fsspec in /home/neon/Documents/laoshi/lib/python3.12/site-packages (from torch->allosaurus) (2025.7.0)\n",
      "Requirement already satisfied: nvidia-cuda-nvrtc-cu12==12.8.93 in /home/neon/Documents/laoshi/lib/python3.12/site-packages (from torch->allosaurus) (12.8.93)\n",
      "Requirement already satisfied: nvidia-cuda-runtime-cu12==12.8.90 in /home/neon/Documents/laoshi/lib/python3.12/site-packages (from torch->allosaurus) (12.8.90)\n",
      "Requirement already satisfied: nvidia-cuda-cupti-cu12==12.8.90 in /home/neon/Documents/laoshi/lib/python3.12/site-packages (from torch->allosaurus) (12.8.90)\n",
      "Requirement already satisfied: nvidia-cudnn-cu12==9.10.2.21 in /home/neon/Documents/laoshi/lib/python3.12/site-packages (from torch->allosaurus) (9.10.2.21)\n",
      "Requirement already satisfied: nvidia-cublas-cu12==12.8.4.1 in /home/neon/Documents/laoshi/lib/python3.12/site-packages (from torch->allosaurus) (12.8.4.1)\n",
      "Requirement already satisfied: nvidia-cufft-cu12==11.3.3.83 in /home/neon/Documents/laoshi/lib/python3.12/site-packages (from torch->allosaurus) (11.3.3.83)\n",
      "Requirement already satisfied: nvidia-curand-cu12==10.3.9.90 in /home/neon/Documents/laoshi/lib/python3.12/site-packages (from torch->allosaurus) (10.3.9.90)\n",
      "Requirement already satisfied: nvidia-cusolver-cu12==11.7.3.90 in /home/neon/Documents/laoshi/lib/python3.12/site-packages (from torch->allosaurus) (11.7.3.90)\n",
      "Requirement already satisfied: nvidia-cusparse-cu12==12.5.8.93 in /home/neon/Documents/laoshi/lib/python3.12/site-packages (from torch->allosaurus) (12.5.8.93)\n",
      "Requirement already satisfied: nvidia-cusparselt-cu12==0.7.1 in /home/neon/Documents/laoshi/lib/python3.12/site-packages (from torch->allosaurus) (0.7.1)\n",
      "Requirement already satisfied: nvidia-nccl-cu12==2.27.3 in /home/neon/Documents/laoshi/lib/python3.12/site-packages (from torch->allosaurus) (2.27.3)\n",
      "Requirement already satisfied: nvidia-nvtx-cu12==12.8.90 in /home/neon/Documents/laoshi/lib/python3.12/site-packages (from torch->allosaurus) (12.8.90)\n",
      "Requirement already satisfied: nvidia-nvjitlink-cu12==12.8.93 in /home/neon/Documents/laoshi/lib/python3.12/site-packages (from torch->allosaurus) (12.8.93)\n",
      "Requirement already satisfied: nvidia-cufile-cu12==1.13.1.3 in /home/neon/Documents/laoshi/lib/python3.12/site-packages (from torch->allosaurus) (1.13.1.3)\n",
      "Requirement already satisfied: triton==3.4.0 in /home/neon/Documents/laoshi/lib/python3.12/site-packages (from torch->allosaurus) (3.4.0)\n",
      "Requirement already satisfied: llvmlite<0.45,>=0.44.0dev0 in /home/neon/Documents/laoshi/lib/python3.12/site-packages (from numba>=0.53->resampy->allosaurus) (0.44.0)\n",
      "Requirement already satisfied: mpmath<1.4,>=1.1.0 in /home/neon/Documents/laoshi/lib/python3.12/site-packages (from sympy>=1.13.3->torch->allosaurus) (1.3.0)\n",
      "Requirement already satisfied: MarkupSafe>=2.0 in /home/neon/Documents/laoshi/lib/python3.12/site-packages (from jinja2->torch->allosaurus) (3.0.2)\n",
      "Requirement already satisfied: python-dateutil>=2.8.2 in /home/neon/Documents/laoshi/lib/python3.12/site-packages (from pandas->panphon->allosaurus) (2.9.0.post0)\n",
      "Requirement already satisfied: pytz>=2020.1 in /home/neon/Documents/laoshi/lib/python3.12/site-packages (from pandas->panphon->allosaurus) (2025.2)\n",
      "Requirement already satisfied: tzdata>=2022.7 in /home/neon/Documents/laoshi/lib/python3.12/site-packages (from pandas->panphon->allosaurus) (2025.2)\n",
      "Requirement already satisfied: six>=1.5 in /home/neon/Documents/laoshi/lib/python3.12/site-packages (from python-dateutil>=2.8.2->pandas->panphon->allosaurus) (1.17.0)\n",
      "Requirement already satisfied: gTTS in /home/neon/Documents/laoshi/lib/python3.12/site-packages (2.5.4)\n",
      "Requirement already satisfied: requests<3,>=2.27 in /home/neon/Documents/laoshi/lib/python3.12/site-packages (from gTTS) (2.32.4)\n",
      "Requirement already satisfied: click<8.2,>=7.1 in /home/neon/Documents/laoshi/lib/python3.12/site-packages (from gTTS) (8.1.8)\n",
      "Requirement already satisfied: charset_normalizer<4,>=2 in /home/neon/Documents/laoshi/lib/python3.12/site-packages (from requests<3,>=2.27->gTTS) (3.4.2)\n",
      "Requirement already satisfied: idna<4,>=2.5 in /home/neon/Documents/laoshi/lib/python3.12/site-packages (from requests<3,>=2.27->gTTS) (3.10)\n",
      "Requirement already satisfied: urllib3<3,>=1.21.1 in /home/neon/Documents/laoshi/lib/python3.12/site-packages (from requests<3,>=2.27->gTTS) (2.5.0)\n",
      "Requirement already satisfied: certifi>=2017.4.17 in /home/neon/Documents/laoshi/lib/python3.12/site-packages (from requests<3,>=2.27->gTTS) (2025.8.3)\n",
      "Requirement already satisfied: pydub in /home/neon/Documents/laoshi/lib/python3.12/site-packages (0.25.1)\n"
     ]
    }
   ],
   "source": [
    "!pip install langchain\n",
    "!pip install langgraph\n",
    "!pip install -qU langchain[google-genai]\n",
    "!pip install allosaurus\n",
    "!pip install gTTS\n",
    "!pip install pydub"
   ]
  },
  {
   "cell_type": "code",
   "execution_count": 2,
   "metadata": {
    "id": "9k_almScvADM"
   },
   "outputs": [
    {
     "name": "stdin",
     "output_type": "stream",
     "text": [
      "Enter API key for Google Gemini:  ········\n"
     ]
    }
   ],
   "source": [
    "import getpass\n",
    "import os\n",
    "\n",
    "if not os.environ.get(\"GOOGLE_API_KEY\"):\n",
    "  os.environ[\"GOOGLE_API_KEY\"] = getpass.getpass(\"Enter API key for Google Gemini: \")\n",
    "\n",
    "from langchain.chat_models import init_chat_model\n",
    "\n",
    "model = init_chat_model(\"gemini-2.5-pro\", model_provider=\"google_genai\")"
   ]
  },
  {
   "cell_type": "code",
   "execution_count": 3,
   "metadata": {
    "id": "Q7tgLoYXZKV5"
   },
   "outputs": [],
   "source": [
    "from langchain_core.prompts import ChatPromptTemplate, MessagesPlaceholder\n",
    "chat_prompt_template = ChatPromptTemplate.from_messages(\n",
    "    [(\"system\", \"Act as an expert Chinese language tutor with over 10 years of experience. \\\n",
    "    Use the following communication style: encouraging, patient, culturally sensitive and systematically progressive. \\\n",
    "    Gently correct mistakes (including pronounciation mistakes) in real time. \\\n",
    "    Regularly highlight student achievements and improvements to maintain motivation. \\\n",
    "    You are tutoring a native US English speaker. \\\n",
    "    Format your responses so that they are concise, teaching a little bit at a time \\\n",
    "    Format your responses for a text-to-speech system that can only pronounce chinese characters and english characters\\\n",
    "    , not pinyin. \\\n",
    "    Don't use parenthetical phrases\\\n",
    "    User input comes from a tect to speech system\\\n",
    "    When speaking Chinese, never use vocabulary about the pre-2021 HSK-3 level under any circumstances.\",), \\\n",
    "     MessagesPlaceholder(variable_name=\"messages\"),]\n",
    ")"
   ]
  },
  {
   "cell_type": "code",
   "execution_count": 4,
   "metadata": {
    "id": "7BE3Msz-Z6A7"
   },
   "outputs": [],
   "source": [
    "from langgraph.checkpoint.memory import MemorySaver\n",
    "from langgraph.graph import START, MessagesState, StateGraph\n",
    "\n",
    "# Define a new graph\n",
    "workflow = StateGraph(state_schema=MessagesState)\n",
    "\n",
    "def call_model(state: MessagesState):\n",
    "    prompt = chat_prompt_template.invoke(state[\"messages\"])\n",
    "    response = model.invoke(prompt)\n",
    "    return {\"messages\": response}\n",
    "\n",
    "# Define the (single) node in the graph\n",
    "workflow.add_edge(START, \"model\")\n",
    "workflow.add_node(\"model\", call_model)\n",
    "\n",
    "#Adding Memory\n",
    "memory = MemorySaver()\n",
    "app = workflow.compile(checkpointer=memory)"
   ]
  },
  {
   "cell_type": "code",
   "execution_count": 5,
   "metadata": {
    "colab": {
     "base_uri": "https://localhost:8080/",
     "height": 1000
    },
    "id": "VAhr3fpKm_nN",
    "outputId": "b3b40980-8c3d-4622-dbf8-44fd07eb3e2a",
    "slideshow": {
     "slide_type": ""
    },
    "tags": []
   },
   "outputs": [
    {
     "name": "stdin",
     "output_type": "stream",
     "text": [
      "You>: Please teach me chinese\n"
     ]
    },
    {
     "name": "stdout",
     "output_type": "stream",
     "text": [
      "Teacher>:==================================\u001b[1m Ai Message \u001b[0m==================================\n",
      "\n",
      "Of course. It is wonderful to meet you. I am excited to guide you on your journey to learning Chinese. You have taken the first and most important step which is to begin.\n",
      "\n",
      "We will learn together in a special way. We will focus on listening and speaking first. Our goal is to use real and useful Chinese from the very beginning.\n",
      "\n",
      "Let's start with our first word. It is something you would ask for in a restaurant.\n",
      "\n",
      "The word is 菜单.\n",
      "\n",
      "This means menu.\n",
      "\n",
      "It is made of two characters.\n",
      "The first is 菜. This means dish or cuisine.\n",
      "The second is 单. This means list.\n",
      "\n",
      "So a 菜单 is a dish list. A menu.\n",
      "\n",
      "Listen carefully to the sound one more time.\n",
      "菜单.\n",
      "\n",
      "Now it is your turn. Please try to say 菜单. Take your time.\n"
     ]
    },
    {
     "name": "stderr",
     "output_type": "stream",
     "text": [
      "Input #0, wav, from '/tmp/tmp3_6kqeod.wav':   0KB sq=    0B f=0/0   \n",
      "  Duration: 00:01:23.21, bitrate: 384 kb/s\n",
      "  Stream #0:0: Audio: pcm_s16le ([1][0][0][0] / 0x0001), 24000 Hz, 1 channels, s16, 384 kb/s\n",
      "  83.16 M-A:  0.000 fd=   0 aq=    0KB vq=    0KB sq=    0B f=0/0   "
     ]
    },
    {
     "name": "stdout",
     "output_type": "stream",
     "text": [
      "\n"
     ]
    },
    {
     "ename": "KeyboardInterrupt",
     "evalue": "Interrupted by user",
     "output_type": "error",
     "traceback": [
      "\u001b[31m---------------------------------------------------------------------------\u001b[39m",
      "\u001b[31mKeyboardInterrupt\u001b[39m                         Traceback (most recent call last)",
      "\u001b[36mCell\u001b[39m\u001b[36m \u001b[39m\u001b[32mIn[5]\u001b[39m\u001b[32m, line 9\u001b[39m\n\u001b[32m      7\u001b[39m config = {\u001b[33m\"\u001b[39m\u001b[33mconfigurable\u001b[39m\u001b[33m\"\u001b[39m: {\u001b[33m\"\u001b[39m\u001b[33mthread_id\u001b[39m\u001b[33m\"\u001b[39m: \u001b[33m\"\u001b[39m\u001b[33mCM\u001b[39m\u001b[33m\"\u001b[39m}}\n\u001b[32m      8\u001b[39m \u001b[38;5;28;01mwhile\u001b[39;00m \u001b[38;5;28;01mTrue\u001b[39;00m:\n\u001b[32m----> \u001b[39m\u001b[32m9\u001b[39m   user_input = \u001b[38;5;28;43minput\u001b[39;49m\u001b[43m(\u001b[49m\u001b[33;43m\"\u001b[39;49m\u001b[33;43mYou>:\u001b[39;49m\u001b[33;43m\"\u001b[39;49m\u001b[43m)\u001b[49m\n\u001b[32m     10\u001b[39m   input_messages = [HumanMessage(user_input)]\n\u001b[32m     11\u001b[39m   output = app.invoke({\u001b[33m\"\u001b[39m\u001b[33mmessages\u001b[39m\u001b[33m\"\u001b[39m: input_messages}, config)\n",
      "\u001b[36mFile \u001b[39m\u001b[32m~/Documents/laoshi/lib/python3.12/site-packages/ipykernel/kernelbase.py:1275\u001b[39m, in \u001b[36mKernel.raw_input\u001b[39m\u001b[34m(self, prompt)\u001b[39m\n\u001b[32m   1273\u001b[39m     msg = \u001b[33m\"\u001b[39m\u001b[33mraw_input was called, but this frontend does not support input requests.\u001b[39m\u001b[33m\"\u001b[39m\n\u001b[32m   1274\u001b[39m     \u001b[38;5;28;01mraise\u001b[39;00m StdinNotImplementedError(msg)\n\u001b[32m-> \u001b[39m\u001b[32m1275\u001b[39m \u001b[38;5;28;01mreturn\u001b[39;00m \u001b[38;5;28;43mself\u001b[39;49m\u001b[43m.\u001b[49m\u001b[43m_input_request\u001b[49m\u001b[43m(\u001b[49m\n\u001b[32m   1276\u001b[39m \u001b[43m    \u001b[49m\u001b[38;5;28;43mstr\u001b[39;49m\u001b[43m(\u001b[49m\u001b[43mprompt\u001b[49m\u001b[43m)\u001b[49m\u001b[43m,\u001b[49m\n\u001b[32m   1277\u001b[39m \u001b[43m    \u001b[49m\u001b[38;5;28;43mself\u001b[39;49m\u001b[43m.\u001b[49m\u001b[43m_parent_ident\u001b[49m\u001b[43m[\u001b[49m\u001b[33;43m\"\u001b[39;49m\u001b[33;43mshell\u001b[39;49m\u001b[33;43m\"\u001b[39;49m\u001b[43m]\u001b[49m\u001b[43m,\u001b[49m\n\u001b[32m   1278\u001b[39m \u001b[43m    \u001b[49m\u001b[38;5;28;43mself\u001b[39;49m\u001b[43m.\u001b[49m\u001b[43mget_parent\u001b[49m\u001b[43m(\u001b[49m\u001b[33;43m\"\u001b[39;49m\u001b[33;43mshell\u001b[39;49m\u001b[33;43m\"\u001b[39;49m\u001b[43m)\u001b[49m\u001b[43m,\u001b[49m\n\u001b[32m   1279\u001b[39m \u001b[43m    \u001b[49m\u001b[43mpassword\u001b[49m\u001b[43m=\u001b[49m\u001b[38;5;28;43;01mFalse\u001b[39;49;00m\u001b[43m,\u001b[49m\n\u001b[32m   1280\u001b[39m \u001b[43m\u001b[49m\u001b[43m)\u001b[49m\n",
      "\u001b[36mFile \u001b[39m\u001b[32m~/Documents/laoshi/lib/python3.12/site-packages/ipykernel/kernelbase.py:1320\u001b[39m, in \u001b[36mKernel._input_request\u001b[39m\u001b[34m(self, prompt, ident, parent, password)\u001b[39m\n\u001b[32m   1317\u001b[39m \u001b[38;5;28;01mexcept\u001b[39;00m \u001b[38;5;167;01mKeyboardInterrupt\u001b[39;00m:\n\u001b[32m   1318\u001b[39m     \u001b[38;5;66;03m# re-raise KeyboardInterrupt, to truncate traceback\u001b[39;00m\n\u001b[32m   1319\u001b[39m     msg = \u001b[33m\"\u001b[39m\u001b[33mInterrupted by user\u001b[39m\u001b[33m\"\u001b[39m\n\u001b[32m-> \u001b[39m\u001b[32m1320\u001b[39m     \u001b[38;5;28;01mraise\u001b[39;00m \u001b[38;5;167;01mKeyboardInterrupt\u001b[39;00m(msg) \u001b[38;5;28;01mfrom\u001b[39;00m\u001b[38;5;250m \u001b[39m\u001b[38;5;28;01mNone\u001b[39;00m\n\u001b[32m   1321\u001b[39m \u001b[38;5;28;01mexcept\u001b[39;00m \u001b[38;5;167;01mException\u001b[39;00m:\n\u001b[32m   1322\u001b[39m     \u001b[38;5;28mself\u001b[39m.log.warning(\u001b[33m\"\u001b[39m\u001b[33mInvalid Message:\u001b[39m\u001b[33m\"\u001b[39m, exc_info=\u001b[38;5;28;01mTrue\u001b[39;00m)\n",
      "\u001b[31mKeyboardInterrupt\u001b[39m: Interrupted by user"
     ]
    }
   ],
   "source": [
    "from langchain_core.messages import HumanMessage\n",
    "from gtts import gTTS\n",
    "from io import BytesIO\n",
    "from pydub import AudioSegment\n",
    "from pydub.playback import play\n",
    "\n",
    "config = {\"configurable\": {\"thread_id\": \"CM\"}}\n",
    "while True:\n",
    "  user_input = input(\"You>:\")\n",
    "  input_messages = [HumanMessage(user_input)]\n",
    "  output = app.invoke({\"messages\": input_messages}, config)\n",
    "  last_message = output[\"messages\"][-1]\n",
    "  print(\"Teacher>:\", end=\"\")\n",
    "  last_message.pretty_print()\n",
    "  # Use gTTS and pygame to say the AI message with Taiwanese voice\n",
    "  mp3_file_like = BytesIO()\n",
    "  tts = gTTS(text=last_message.text(), lang='zh-TW', slow=False)\n",
    "  tts.write_to_fp(mp3_file_like)\n",
    "  mp3_file_like.seek(0)\n",
    "  # Convert the file-like object to an AudioSegment\n",
    "  audio = AudioSegment.from_mp3(BytesIO(mp3_file_like.read()))\n",
    "  # Play the sound\n",
    "  play(audio)\n",
    "  mp3_file_like.close()"
   ]
  },
  {
   "cell_type": "code",
   "execution_count": null,
   "metadata": {},
   "outputs": [],
   "source": []
  }
 ],
 "metadata": {
  "colab": {
   "provenance": []
  },
  "kernelspec": {
   "display_name": "Python 3 (ipykernel)",
   "language": "python",
   "name": "python3"
  },
  "language_info": {
   "codemirror_mode": {
    "name": "ipython",
    "version": 3
   },
   "file_extension": ".py",
   "mimetype": "text/x-python",
   "name": "python",
   "nbconvert_exporter": "python",
   "pygments_lexer": "ipython3",
   "version": "3.12.3"
  }
 },
 "nbformat": 4,
 "nbformat_minor": 4
}
