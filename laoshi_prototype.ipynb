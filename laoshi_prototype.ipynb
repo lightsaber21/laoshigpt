{
 "cells": [
  {
   "cell_type": "code",
   "execution_count": null,
   "metadata": {
    "colab": {
     "base_uri": "https://localhost:8080/"
    },
    "id": "ShsfyGq0u1KI",
    "outputId": "97802899-a499-49a9-cf0c-dca0c160b201"
   },
   "outputs": [],
   "source": [
    "!pip install langchain\n",
    "!pip install langgraph\n",
    "!pip install -qU langchain[google-genai]\n",
    "!pip install allosaurus\n",
    "!pip install gTTS\n",
    "!pip install pydub"
   ]
  },
  {
   "cell_type": "code",
   "execution_count": null,
   "metadata": {
    "id": "9k_almScvADM"
   },
   "outputs": [],
   "source": [
    "import getpass\n",
    "import os\n",
    "\n",
    "if not os.environ.get(\"GOOGLE_API_KEY\"):\n",
    "  os.environ[\"GOOGLE_API_KEY\"] = getpass.getpass(\"Enter API key for Google Gemini: \")\n",
    "\n",
    "from langchain.chat_models import init_chat_model\n",
    "\n",
    "model = init_chat_model(\"gemini-2.5-pro\", model_provider=\"google_genai\")"
   ]
  },
  {
   "cell_type": "code",
   "execution_count": null,
   "metadata": {
    "id": "Q7tgLoYXZKV5"
   },
   "outputs": [],
   "source": [
    "from langchain_core.prompts import ChatPromptTemplate, MessagesPlaceholder\n",
    "chat_prompt_template = ChatPromptTemplate.from_messages(\n",
    "    [(\"system\", \"Act as an expert Chinese language tutor with over 10 years of experience. \\\n",
    "    Use the following communication style: encouraging, patient, culturally sensitive and systematically progressive. \\\n",
    "    Gently correct mistakes (including pronounciation mistakes) in real time. \\\n",
    "    Regularly highlight student achievements and improvements to maintain motivation. \\\n",
    "    You are tutoring a native US English speaker. \\\n",
    "    Format your responses so that they are concise, teaching a little bit at a time \\\n",
    "    Format your responses so that a text-to-speech system that can only pronounce chinese character and english character\\\n",
    "    ,not pinyin, can use them. \\\n",
    "    Don't use parenthetical phrases\\\n",
    "    Inputs are from a chinese speech to text system\\\n",
    "    When speaking Chinese, never use vocabulary above the pre-2021 HSK-3 level under any circumstances.\",), \\\n",
    "     MessagesPlaceholder(variable_name=\"messages\"),]\n",
    ")"
   ]
  },
  {
   "cell_type": "code",
   "execution_count": null,
   "metadata": {
    "id": "7BE3Msz-Z6A7"
   },
   "outputs": [],
   "source": [
    "from langgraph.checkpoint.memory import MemorySaver\n",
    "from langgraph.graph import START, MessagesState, StateGraph\n",
    "\n",
    "# Define a new graph\n",
    "workflow = StateGraph(state_schema=MessagesState)\n",
    "\n",
    "def call_model(state: MessagesState):\n",
    "    prompt = chat_prompt_template.invoke(state[\"messages\"])\n",
    "    response = model.invoke(prompt)\n",
    "    return {\"messages\": response}\n",
    "\n",
    "# Define the (single) node in the graph\n",
    "workflow.add_edge(START, \"model\")\n",
    "workflow.add_node(\"model\", call_model)\n",
    "\n",
    "#Adding Memory\n",
    "memory = MemorySaver()\n",
    "app = workflow.compile(checkpointer=memory)"
   ]
  },
  {
   "cell_type": "code",
   "execution_count": null,
   "metadata": {
    "colab": {
     "base_uri": "https://localhost:8080/",
     "height": 1000
    },
    "id": "VAhr3fpKm_nN",
    "outputId": "b3b40980-8c3d-4622-dbf8-44fd07eb3e2a",
    "slideshow": {
     "slide_type": ""
    },
    "tags": []
   },
   "outputs": [],
   "source": [
    "from langchain_core.messages import HumanMessage\n",
    "from gtts import gTTS\n",
    "from io import BytesIO\n",
    "from pydub import AudioSegment\n",
    "from pydub.playback import play\n",
    "\n",
    "config = {\"configurable\": {\"thread_id\": \"CM\"}}\n",
    "while True:\n",
    "  user_input = input(\"You>:\")\n",
    "  input_messages = [HumanMessage(user_input)]\n",
    "  output = app.invoke({\"messages\": input_messages}, config)\n",
    "  last_message = output[\"messages\"][-1]\n",
    "  print(\"Teacher>:\", end=\"\")\n",
    "  last_message.pretty_print()\n",
    "  # Use gTTS and pygame to say the AI message with Taiwanese voice\n",
    "  mp3_file_like = BytesIO()\n",
    "  tts = gTTS(text=last_message.text(), lang='zh-TW', slow=False)\n",
    "  tts.write_to_fp(mp3_file_like)\n",
    "  mp3_file_like.seek(0)\n",
    "  # Convert the file-like object to an AudioSegment\n",
    "  audio = AudioSegment.from_mp3(BytesIO(mp3_file_like.read()))\n",
    "  # Play the sound\n",
    "  play(audio)\n",
    "  mp3_file_like.close()"
   ]
  },
  {
   "cell_type": "code",
   "execution_count": null,
   "metadata": {},
   "outputs": [],
   "source": []
  }
 ],
 "metadata": {
  "colab": {
   "provenance": []
  },
  "kernelspec": {
   "display_name": "Python 3 (ipykernel)",
   "language": "python",
   "name": "python3"
  },
  "language_info": {
   "codemirror_mode": {
    "name": "ipython",
    "version": 3
   },
   "file_extension": ".py",
   "mimetype": "text/x-python",
   "name": "python",
   "nbconvert_exporter": "python",
   "pygments_lexer": "ipython3",
   "version": "3.12.3"
  }
 },
 "nbformat": 4,
 "nbformat_minor": 4
}
