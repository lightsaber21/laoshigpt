{
 "cells": [
  {
   "cell_type": "code",
   "execution_count": null,
   "metadata": {
    "colab": {
     "base_uri": "https://localhost:8080/"
    },
    "id": "ShsfyGq0u1KI",
    "outputId": "97802899-a499-49a9-cf0c-dca0c160b201"
   },
   "outputs": [
    {
     "name": "stdout",
     "output_type": "stream",
     "text": [
      "Requirement already satisfied: allosaurus in /home/neon/Documents/laoshi/lib/python3.12/site-packages (1.0.2)\n",
      "Requirement already satisfied: scipy in /home/neon/Documents/laoshi/lib/python3.12/site-packages (from allosaurus) (1.16.1)\n",
      "Requirement already satisfied: numpy in /home/neon/Documents/laoshi/lib/python3.12/site-packages (from allosaurus) (2.2.6)\n",
      "Requirement already satisfied: resampy in /home/neon/Documents/laoshi/lib/python3.12/site-packages (from allosaurus) (0.4.3)\n",
      "Requirement already satisfied: panphon in /home/neon/Documents/laoshi/lib/python3.12/site-packages (from allosaurus) (0.22.2)\n",
      "Requirement already satisfied: torch in /home/neon/Documents/laoshi/lib/python3.12/site-packages (from allosaurus) (2.8.0)\n",
      "Requirement already satisfied: editdistance in /home/neon/Documents/laoshi/lib/python3.12/site-packages (from allosaurus) (0.8.1)\n",
      "Requirement already satisfied: setuptools in /home/neon/Documents/laoshi/lib/python3.12/site-packages (from panphon->allosaurus) (80.9.0)\n",
      "Requirement already satisfied: unicodecsv in /home/neon/Documents/laoshi/lib/python3.12/site-packages (from panphon->allosaurus) (0.14.1)\n",
      "Requirement already satisfied: PyYAML in /home/neon/Documents/laoshi/lib/python3.12/site-packages (from panphon->allosaurus) (6.0.2)\n",
      "Requirement already satisfied: regex in /home/neon/Documents/laoshi/lib/python3.12/site-packages (from panphon->allosaurus) (2025.7.34)\n",
      "Requirement already satisfied: munkres in /home/neon/Documents/laoshi/lib/python3.12/site-packages (from panphon->allosaurus) (1.1.4)\n",
      "Requirement already satisfied: pandas in /home/neon/Documents/laoshi/lib/python3.12/site-packages (from panphon->allosaurus) (2.3.1)\n",
      "Requirement already satisfied: numba>=0.53 in /home/neon/Documents/laoshi/lib/python3.12/site-packages (from resampy->allosaurus) (0.61.2)\n",
      "Requirement already satisfied: filelock in /home/neon/Documents/laoshi/lib/python3.12/site-packages (from torch->allosaurus) (3.18.0)\n",
      "Requirement already satisfied: typing-extensions>=4.10.0 in /home/neon/Documents/laoshi/lib/python3.12/site-packages (from torch->allosaurus) (4.14.1)\n",
      "Requirement already satisfied: sympy>=1.13.3 in /home/neon/Documents/laoshi/lib/python3.12/site-packages (from torch->allosaurus) (1.14.0)\n",
      "Requirement already satisfied: networkx in /home/neon/Documents/laoshi/lib/python3.12/site-packages (from torch->allosaurus) (3.5)\n",
      "Requirement already satisfied: jinja2 in /home/neon/Documents/laoshi/lib/python3.12/site-packages (from torch->allosaurus) (3.1.6)\n",
      "Requirement already satisfied: fsspec in /home/neon/Documents/laoshi/lib/python3.12/site-packages (from torch->allosaurus) (2025.7.0)\n",
      "Requirement already satisfied: nvidia-cuda-nvrtc-cu12==12.8.93 in /home/neon/Documents/laoshi/lib/python3.12/site-packages (from torch->allosaurus) (12.8.93)\n",
      "Requirement already satisfied: nvidia-cuda-runtime-cu12==12.8.90 in /home/neon/Documents/laoshi/lib/python3.12/site-packages (from torch->allosaurus) (12.8.90)\n",
      "Requirement already satisfied: nvidia-cuda-cupti-cu12==12.8.90 in /home/neon/Documents/laoshi/lib/python3.12/site-packages (from torch->allosaurus) (12.8.90)\n",
      "Requirement already satisfied: nvidia-cudnn-cu12==9.10.2.21 in /home/neon/Documents/laoshi/lib/python3.12/site-packages (from torch->allosaurus) (9.10.2.21)\n",
      "Requirement already satisfied: nvidia-cublas-cu12==12.8.4.1 in /home/neon/Documents/laoshi/lib/python3.12/site-packages (from torch->allosaurus) (12.8.4.1)\n",
      "Requirement already satisfied: nvidia-cufft-cu12==11.3.3.83 in /home/neon/Documents/laoshi/lib/python3.12/site-packages (from torch->allosaurus) (11.3.3.83)\n",
      "Requirement already satisfied: nvidia-curand-cu12==10.3.9.90 in /home/neon/Documents/laoshi/lib/python3.12/site-packages (from torch->allosaurus) (10.3.9.90)\n",
      "Requirement already satisfied: nvidia-cusolver-cu12==11.7.3.90 in /home/neon/Documents/laoshi/lib/python3.12/site-packages (from torch->allosaurus) (11.7.3.90)\n",
      "Requirement already satisfied: nvidia-cusparse-cu12==12.5.8.93 in /home/neon/Documents/laoshi/lib/python3.12/site-packages (from torch->allosaurus) (12.5.8.93)\n",
      "Requirement already satisfied: nvidia-cusparselt-cu12==0.7.1 in /home/neon/Documents/laoshi/lib/python3.12/site-packages (from torch->allosaurus) (0.7.1)\n",
      "Requirement already satisfied: nvidia-nccl-cu12==2.27.3 in /home/neon/Documents/laoshi/lib/python3.12/site-packages (from torch->allosaurus) (2.27.3)\n",
      "Requirement already satisfied: nvidia-nvtx-cu12==12.8.90 in /home/neon/Documents/laoshi/lib/python3.12/site-packages (from torch->allosaurus) (12.8.90)\n",
      "Requirement already satisfied: nvidia-nvjitlink-cu12==12.8.93 in /home/neon/Documents/laoshi/lib/python3.12/site-packages (from torch->allosaurus) (12.8.93)\n",
      "Requirement already satisfied: nvidia-cufile-cu12==1.13.1.3 in /home/neon/Documents/laoshi/lib/python3.12/site-packages (from torch->allosaurus) (1.13.1.3)\n",
      "Requirement already satisfied: triton==3.4.0 in /home/neon/Documents/laoshi/lib/python3.12/site-packages (from torch->allosaurus) (3.4.0)\n",
      "Requirement already satisfied: llvmlite<0.45,>=0.44.0dev0 in /home/neon/Documents/laoshi/lib/python3.12/site-packages (from numba>=0.53->resampy->allosaurus) (0.44.0)\n",
      "Requirement already satisfied: mpmath<1.4,>=1.1.0 in /home/neon/Documents/laoshi/lib/python3.12/site-packages (from sympy>=1.13.3->torch->allosaurus) (1.3.0)\n",
      "Requirement already satisfied: MarkupSafe>=2.0 in /home/neon/Documents/laoshi/lib/python3.12/site-packages (from jinja2->torch->allosaurus) (3.0.2)\n",
      "Requirement already satisfied: python-dateutil>=2.8.2 in /home/neon/Documents/laoshi/lib/python3.12/site-packages (from pandas->panphon->allosaurus) (2.9.0.post0)\n",
      "Requirement already satisfied: pytz>=2020.1 in /home/neon/Documents/laoshi/lib/python3.12/site-packages (from pandas->panphon->allosaurus) (2025.2)\n",
      "Requirement already satisfied: tzdata>=2022.7 in /home/neon/Documents/laoshi/lib/python3.12/site-packages (from pandas->panphon->allosaurus) (2025.2)\n",
      "Requirement already satisfied: six>=1.5 in /home/neon/Documents/laoshi/lib/python3.12/site-packages (from python-dateutil>=2.8.2->pandas->panphon->allosaurus) (1.17.0)\n",
      "Requirement already satisfied: gTTS in /home/neon/Documents/laoshi/lib/python3.12/site-packages (2.5.4)\n",
      "Requirement already satisfied: requests<3,>=2.27 in /home/neon/Documents/laoshi/lib/python3.12/site-packages (from gTTS) (2.32.4)\n",
      "Requirement already satisfied: click<8.2,>=7.1 in /home/neon/Documents/laoshi/lib/python3.12/site-packages (from gTTS) (8.1.8)\n",
      "Requirement already satisfied: charset_normalizer<4,>=2 in /home/neon/Documents/laoshi/lib/python3.12/site-packages (from requests<3,>=2.27->gTTS) (3.4.2)\n",
      "Requirement already satisfied: idna<4,>=2.5 in /home/neon/Documents/laoshi/lib/python3.12/site-packages (from requests<3,>=2.27->gTTS) (3.10)\n",
      "Requirement already satisfied: urllib3<3,>=1.21.1 in /home/neon/Documents/laoshi/lib/python3.12/site-packages (from requests<3,>=2.27->gTTS) (2.5.0)\n",
      "Requirement already satisfied: certifi>=2017.4.17 in /home/neon/Documents/laoshi/lib/python3.12/site-packages (from requests<3,>=2.27->gTTS) (2025.8.3)\n",
      "Requirement already satisfied: pydub in /home/neon/Documents/laoshi/lib/python3.12/site-packages (0.25.1)\n"
     ]
    }
   ],
   "source": [
    "!pip install langchain\n",
    "!pip install langgraph\n",
    "!pip install -qU langchain[google-genai]\n",
    "!pip install allosaurus\n",
    "!pip install gTTS\n",
    "!pip install pydub"
   ]
  },
  {
   "cell_type": "code",
   "execution_count": 6,
   "metadata": {
    "id": "9k_almScvADM"
   },
   "outputs": [],
   "source": [
    "import getpass\n",
    "import os\n",
    "\n",
    "if not os.environ.get(\"GOOGLE_API_KEY\"):\n",
    "  os.environ[\"GOOGLE_API_KEY\"] = getpass.getpass(\"Enter API key for Google Gemini: \")\n",
    "\n",
    "from langchain.chat_models import init_chat_model\n",
    "\n",
    "model = init_chat_model(\"gemini-2.5-pro\", model_provider=\"google_genai\")"
   ]
  },
  {
   "cell_type": "code",
   "execution_count": 11,
   "metadata": {
    "id": "Q7tgLoYXZKV5"
   },
   "outputs": [],
   "source": [
    "from langchain_core.prompts import ChatPromptTemplate, MessagesPlaceholder\n",
    "chat_prompt_template = ChatPromptTemplate.from_messages(\n",
    "    [(\"system\", \"Act as an expert Chinese language tutor with over 10 years of experience. \\\n",
    "    Use the following communication style: encouraging, patient, culturally sensitive and systematically progressive. \\开始\n",
    "    Gently correct mistakes (including pronounciation mistakes) in real time. \\\n",
    "    Regularly highlight student achievements and improvements to maintain motivation. \\\n",
    "    You are tutoring a native US English speaker. \\\n",
    "    Format your responses so that they are concise, teaching a little bit at a time \\\n",
    "    Format your responses so that a text-to-speech system that can only pronounce chinese character and english character\\\n",
    "    ,not pinyin, can use them. \\\n",
    "    Don't use parenthetical phrases\\\n",
    "    When speaking Chinese, never use vocabulary about the pre-2021 HSK-3 level under any circumstances.\",), \\\n",
    "     MessagesPlaceholder(variable_name=\"messages\"),]\n",
    ")"
   ]
  },
  {
   "cell_type": "code",
   "execution_count": 12,
   "metadata": {
    "id": "7BE3Msz-Z6A7"
   },
   "outputs": [],
   "source": [
    "from langgraph.checkpoint.memory import MemorySaver\n",
    "from langgraph.graph import START, MessagesState, StateGraph\n",
    "\n",
    "# Define a new graph\n",
    "workflow = StateGraph(state_schema=MessagesState)\n",
    "\n",
    "def call_model(state: MessagesState):\n",
    "    prompt = chat_prompt_template.invoke(state[\"messages\"])\n",
    "    response = model.invoke(prompt)\n",
    "    return {\"messages\": response}\n",
    "\n",
    "# Define the (single) node in the graph\n",
    "workflow.add_edge(START, \"model\")\n",
    "workflow.add_node(\"model\", call_model)\n",
    "\n",
    "#Adding Memory\n",
    "memory = MemorySaver()\n",
    "app = workflow.compile(checkpointer=memory)"
   ]
  },
  {
   "cell_type": "code",
   "execution_count": null,
   "metadata": {
    "colab": {
     "base_uri": "https://localhost:8080/",
     "height": 1000
    },
    "id": "VAhr3fpKm_nN",
    "outputId": "b3b40980-8c3d-4622-dbf8-44fd07eb3e2a",
    "slideshow": {
     "slide_type": ""
    },
    "tags": []
   },
   "outputs": [],
   "source": [
    "from langchain_core.messages import HumanMessage\n",
    "from gtts import gTTS\n",
    "from io import BytesIO\n",
    "from pydub import AudioSegment\n",
    "from pydub.playback import play\n",
    "\n",
    "config = {\"configurable\": {\"thread_id\": \"CM\"}}\n",
    "while True:\n",
    "  user_input = input(\"You>:\")\n",
    "  input_messages = [HumanMessage(user_input)]\n",
    "  output = app.invoke({\"messages\": input_messages}, config)\n",
    "  last_message = output[\"messages\"][-1]\n",
    "  print(\"Teacher>:\", end=\"\")\n",
    "  last_message.pretty_print()\n",
    "  # Use gTTS and pygame to say the AI message with Taiwanese voice\n",
    "  mp3_file_like = BytesIO()\n",
    "  tts = gTTS(text=last_message.text(), lang='zh-TW', slow=False)\n",
    "  tts.write_to_fp(mp3_file_like)\n",
    "  mp3_file_like.seek(0)\n",
    "  # Convert the file-like object to an AudioSegment\n",
    "  audio = AudioSegment.from_mp3(BytesIO(mp3_file_like.read()))\n",
    "  # Play the sound\n",
    "  play(audio)\n",
    "  mp3_file_like.close()"
   ]
  },
  {
   "cell_type": "code",
   "execution_count": null,
   "metadata": {},
   "outputs": [],
   "source": []
  }
 ],
 "metadata": {
  "colab": {
   "provenance": []
  },
  "kernelspec": {
   "display_name": "Python 3 (ipykernel)",
   "language": "python",
   "name": "python3"
  },
  "language_info": {
   "codemirror_mode": {
    "name": "ipython",
    "version": 3
   },
   "file_extension": ".py",
   "mimetype": "text/x-python",
   "name": "python",
   "nbconvert_exporter": "python",
   "pygments_lexer": "ipython3",
   "version": "3.12.3"
  }
 },
 "nbformat": 4,
 "nbformat_minor": 4
}
